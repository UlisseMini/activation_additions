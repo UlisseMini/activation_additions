{
 "cells": [
  {
   "attachments": {},
   "cell_type": "markdown",
   "metadata": {},
   "source": [
    "# Steering examples on big models"
   ]
  },
  {
   "cell_type": "code",
   "execution_count": 1,
   "metadata": {},
   "outputs": [],
   "source": [
    "import torch as t\n",
    "import ave\n",
    "from transformers import LlamaTokenizer, LlamaForCausalLM\n",
    "from accelerate import init_empty_weights, load_checkpoint_and_dispatch"
   ]
  },
  {
   "cell_type": "code",
   "execution_count": 2,
   "metadata": {},
   "outputs": [
    {
     "data": {
      "application/vnd.jupyter.widget-view+json": {
       "model_id": "a6b337ad59994513b3594bae6421ec95",
       "version_major": 2,
       "version_minor": 0
      },
      "text/plain": [
       "Loading checkpoint shards:   0%|          | 0/3 [00:00<?, ?it/s]"
      ]
     },
     "metadata": {},
     "output_type": "display_data"
    }
   ],
   "source": [
    "# Attempt to load llama-13b\n",
    "model_path = '../models/llama-13B'\n",
    "device = 'mps'\n",
    "\n",
    "with init_empty_weights():\n",
    "    model = LlamaForCausalLM.from_pretrained(model_path)\n",
    "    model.tie_weights() # in case checkpoint doesn't contain duplicate keys for tied weights\n",
    "\n",
    "model = load_checkpoint_and_dispatch(model, model_path, device_map={'': device}, dtype=t.float32, no_split_module_classes=[\"LlamaDecoderLayer\"])\n",
    "tokenizer = LlamaTokenizer.from_pretrained(model_path)"
   ]
  },
  {
   "cell_type": "code",
   "execution_count": 3,
   "metadata": {},
   "outputs": [
    {
     "name": "stdout",
     "output_type": "stream",
     "text": [
      "J'aime le chocolat = I like chocolate\n",
      "祝你一天过得愉快 = You look so beautiful today\n",
      "The word 着 (zhu) has two meanings: 1) to wear or 2) to have.\n",
      "You can tell the meaning of the word 着 by looking at the context. The sentence J'aime le chocolat is about wearing. But the sentence 祮 you天过得愉快 is about having.\n",
      "There are two ways to form the present tense\n"
     ]
    }
   ],
   "source": [
    "# Generate a sequence from the model\n",
    "tokens = model.generate(\n",
    "    **ave.tokenize(tokenizer, [\"J'aime le chocolat = I like chocolate\\n祝你一天过得愉快 =\"], device='mps'),\n",
    "    max_new_tokens=100, temperature=0.8, top_p=0.95, do_sample=True,\n",
    ")\n",
    "# hyperparameters from https://github.com/facebookresearch/llama/blob/main/example.py\n",
    "print(tokenizer.decode(tokens[0].tolist(), skip_special_tokens=True))"
   ]
  }
 ],
 "metadata": {
  "kernelspec": {
   "display_name": "ave",
   "language": "python",
   "name": "python3"
  },
  "language_info": {
   "codemirror_mode": {
    "name": "ipython",
    "version": 3
   },
   "file_extension": ".py",
   "mimetype": "text/x-python",
   "name": "python",
   "nbconvert_exporter": "python",
   "pygments_lexer": "ipython3",
   "version": "3.10.10"
  },
  "orig_nbformat": 4
 },
 "nbformat": 4,
 "nbformat_minor": 2
}
